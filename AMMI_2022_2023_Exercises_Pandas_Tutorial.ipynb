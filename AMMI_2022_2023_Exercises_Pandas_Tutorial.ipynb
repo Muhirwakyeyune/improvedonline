{
  "nbformat": 4,
  "nbformat_minor": 0,
  "metadata": {
    "colab": {
      "provenance": [],
      "collapsed_sections": [
        "NcgI3FSJsQy4",
        "a18_PHpVeWL7",
        "lECV1ogqiXd1",
        "nCnC4sb0-X3o",
        "COFusAseeFdU",
        "BKP_YdI9E82F"
      ],
      "include_colab_link": true
    },
    "kernelspec": {
      "name": "python3",
      "display_name": "Python 3"
    },
    "language_info": {
      "name": "python"
    }
  },
  "cells": [
    {
      "cell_type": "markdown",
      "metadata": {
        "id": "view-in-github",
        "colab_type": "text"
      },
      "source": [
        "<a href=\"https://colab.research.google.com/github/Muhirwakyeyune/improvedonline/blob/master/AMMI_2022_2023_Exercises_Pandas_Tutorial.ipynb\" target=\"_parent\"><img src=\"https://colab.research.google.com/assets/colab-badge.svg\" alt=\"Open In Colab\"/></a>"
      ]
    },
    {
      "cell_type": "markdown",
      "source": [
        "#### To Get start please compile this line of code below"
      ],
      "metadata": {
        "id": "NcgI3FSJsQy4"
      }
    },
    {
      "cell_type": "code",
      "source": [
        "!gdown --id 15qGep08tIBlbiRItJqbhc-M4aEfV7vJF \n",
        "!unzip winemag-data-130k-v2.csv.zip\n",
        "!rm -rf winemag-data-130k-v2.csv.zip"
      ],
      "metadata": {
        "colab": {
          "base_uri": "https://localhost:8080/"
        },
        "id": "bWz0CqNGsUJu",
        "outputId": "f750f762-cb8a-48a4-ef2e-c5ed68dacb52"
      },
      "execution_count": null,
      "outputs": [
        {
          "output_type": "stream",
          "name": "stdout",
          "text": [
            "Downloading...\n",
            "From: https://drive.google.com/uc?id=15qGep08tIBlbiRItJqbhc-M4aEfV7vJF\n",
            "To: /content/winemag-data-130k-v2.csv.zip\n",
            "100% 17.2M/17.2M [00:00<00:00, 21.8MB/s]\n",
            "Archive:  winemag-data-130k-v2.csv.zip\n",
            "  inflating: winemag-data-130k-v2.csv  \n"
          ]
        }
      ]
    },
    {
      "cell_type": "code",
      "execution_count": null,
      "metadata": {
        "id": "xlTDFP4FciVw"
      },
      "outputs": [],
      "source": [
        "# Import pandas library\n"
      ]
    },
    {
      "cell_type": "markdown",
      "source": [
        "# Section A : Creating, Reading and Writing"
      ],
      "metadata": {
        "id": "a18_PHpVeWL7"
      }
    },
    {
      "cell_type": "markdown",
      "source": [
        "## 1 .\n",
        "\n",
        "In the cell below, create a DataFrame `fruits` that looks like this:\n",
        "\n",
        "![](https://i.imgur.com/Ax3pp2A.png)"
      ],
      "metadata": {
        "id": "bn5o2D0pd_zN"
      }
    },
    {
      "cell_type": "code",
      "source": [
        "# Your code goes here. Create a dataframe matching the above diagram and assign it to the variable fruits.\n",
        "fruits = \n",
        "\n",
        "fruits"
      ],
      "metadata": {
        "id": "liIzyyoSdhWu"
      },
      "execution_count": null,
      "outputs": []
    },
    {
      "cell_type": "markdown",
      "source": [
        "## 2.\n",
        "\n",
        "Create a dataframe `fruit_sales` that matches the diagram below:\n",
        "\n",
        "![](https://i.imgur.com/CHPn7ZF.png)"
      ],
      "metadata": {
        "id": "2I1Q8b7kehW7"
      }
    },
    {
      "cell_type": "code",
      "source": [
        "# Your code goes here. Create a dataframe matching the above diagram and assign it to the variable fruit_sales.\n",
        "fruit_sales = \n",
        "\n",
        "fruit_sales"
      ],
      "metadata": {
        "id": "9Wsc0SuMdhSq"
      },
      "execution_count": null,
      "outputs": []
    },
    {
      "cell_type": "markdown",
      "source": [
        "## 3.\n",
        "\n",
        "Create a variable `ingredients` with a Series that looks like:\n",
        "\n",
        "```\n",
        "Flour     4 cups\n",
        "Milk       1 cup\n",
        "Eggs     2 large\n",
        "Spam       1 can\n",
        "Name: Dinner, dtype: object\n",
        "```"
      ],
      "metadata": {
        "id": "MQXruKkbe3UI"
      }
    },
    {
      "cell_type": "code",
      "source": [
        "ingredients = # here your code  \n",
        "\n",
        "\n",
        "ingredients"
      ],
      "metadata": {
        "id": "rE0brPuOdhPI"
      },
      "execution_count": null,
      "outputs": []
    },
    {
      "cell_type": "markdown",
      "source": [
        "## 4.\n",
        "\n",
        "Read the following csv dataset of wine reviews into a DataFrame called `reviews`:\n",
        "\n",
        "The filepath to the csv file is `winemag-data_first150k.csv`. The first few lines look like:\n",
        "\n",
        "```\n",
        ",country,description,designation,points,price,province,region_1,region_2,variety,winery\n",
        "0,US,\"This tremendous 100% varietal wine[...]\",Martha's Vineyard,96,235.0,California,Napa Valley,Napa,Cabernet Sauvignon,Heitz\n",
        "1,Spain,\"Ripe aromas of fig, blackberry and[...]\",Carodorum Selección Especial Reserva,96,110.0,Northern Spain,Toro,,Tinta de Toro,Bodega Carmen Rodríguez\n",
        "```"
      ],
      "metadata": {
        "id": "BMoTA5jkglku"
      }
    },
    {
      "cell_type": "code",
      "source": [
        "reviews = "
      ],
      "metadata": {
        "id": "2h8XUowCdhJ-"
      },
      "execution_count": null,
      "outputs": []
    },
    {
      "cell_type": "markdown",
      "source": [
        "## 5.\n",
        "\n",
        "Run the cell below to create and display a DataFrame called `animals`:"
      ],
      "metadata": {
        "id": "ST6u-X_Iuly9"
      }
    },
    {
      "cell_type": "code",
      "source": [
        "animals = pd.DataFrame({'Cows': [12, 20], 'Goats': [22, 19]}, index=['Year 1', 'Year 2'])\n",
        "animals"
      ],
      "metadata": {
        "id": "4I8C1ITtui8d",
        "colab": {
          "base_uri": "https://localhost:8080/",
          "height": 112
        },
        "outputId": "b078ceba-f4bb-4fdd-c4b8-d1a11fbf52b1"
      },
      "execution_count": null,
      "outputs": [
        {
          "output_type": "execute_result",
          "data": {
            "text/html": [
              "\n",
              "  <div id=\"df-20101eca-1629-40bf-8cd9-e4dd37289083\">\n",
              "    <div class=\"colab-df-container\">\n",
              "      <div>\n",
              "<style scoped>\n",
              "    .dataframe tbody tr th:only-of-type {\n",
              "        vertical-align: middle;\n",
              "    }\n",
              "\n",
              "    .dataframe tbody tr th {\n",
              "        vertical-align: top;\n",
              "    }\n",
              "\n",
              "    .dataframe thead th {\n",
              "        text-align: right;\n",
              "    }\n",
              "</style>\n",
              "<table border=\"1\" class=\"dataframe\">\n",
              "  <thead>\n",
              "    <tr style=\"text-align: right;\">\n",
              "      <th></th>\n",
              "      <th>Cows</th>\n",
              "      <th>Goats</th>\n",
              "    </tr>\n",
              "  </thead>\n",
              "  <tbody>\n",
              "    <tr>\n",
              "      <th>Year 1</th>\n",
              "      <td>12</td>\n",
              "      <td>22</td>\n",
              "    </tr>\n",
              "    <tr>\n",
              "      <th>Year 2</th>\n",
              "      <td>20</td>\n",
              "      <td>19</td>\n",
              "    </tr>\n",
              "  </tbody>\n",
              "</table>\n",
              "</div>\n",
              "      <button class=\"colab-df-convert\" onclick=\"convertToInteractive('df-20101eca-1629-40bf-8cd9-e4dd37289083')\"\n",
              "              title=\"Convert this dataframe to an interactive table.\"\n",
              "              style=\"display:none;\">\n",
              "        \n",
              "  <svg xmlns=\"http://www.w3.org/2000/svg\" height=\"24px\"viewBox=\"0 0 24 24\"\n",
              "       width=\"24px\">\n",
              "    <path d=\"M0 0h24v24H0V0z\" fill=\"none\"/>\n",
              "    <path d=\"M18.56 5.44l.94 2.06.94-2.06 2.06-.94-2.06-.94-.94-2.06-.94 2.06-2.06.94zm-11 1L8.5 8.5l.94-2.06 2.06-.94-2.06-.94L8.5 2.5l-.94 2.06-2.06.94zm10 10l.94 2.06.94-2.06 2.06-.94-2.06-.94-.94-2.06-.94 2.06-2.06.94z\"/><path d=\"M17.41 7.96l-1.37-1.37c-.4-.4-.92-.59-1.43-.59-.52 0-1.04.2-1.43.59L10.3 9.45l-7.72 7.72c-.78.78-.78 2.05 0 2.83L4 21.41c.39.39.9.59 1.41.59.51 0 1.02-.2 1.41-.59l7.78-7.78 2.81-2.81c.8-.78.8-2.07 0-2.86zM5.41 20L4 18.59l7.72-7.72 1.47 1.35L5.41 20z\"/>\n",
              "  </svg>\n",
              "      </button>\n",
              "      \n",
              "  <style>\n",
              "    .colab-df-container {\n",
              "      display:flex;\n",
              "      flex-wrap:wrap;\n",
              "      gap: 12px;\n",
              "    }\n",
              "\n",
              "    .colab-df-convert {\n",
              "      background-color: #E8F0FE;\n",
              "      border: none;\n",
              "      border-radius: 50%;\n",
              "      cursor: pointer;\n",
              "      display: none;\n",
              "      fill: #1967D2;\n",
              "      height: 32px;\n",
              "      padding: 0 0 0 0;\n",
              "      width: 32px;\n",
              "    }\n",
              "\n",
              "    .colab-df-convert:hover {\n",
              "      background-color: #E2EBFA;\n",
              "      box-shadow: 0px 1px 2px rgba(60, 64, 67, 0.3), 0px 1px 3px 1px rgba(60, 64, 67, 0.15);\n",
              "      fill: #174EA6;\n",
              "    }\n",
              "\n",
              "    [theme=dark] .colab-df-convert {\n",
              "      background-color: #3B4455;\n",
              "      fill: #D2E3FC;\n",
              "    }\n",
              "\n",
              "    [theme=dark] .colab-df-convert:hover {\n",
              "      background-color: #434B5C;\n",
              "      box-shadow: 0px 1px 3px 1px rgba(0, 0, 0, 0.15);\n",
              "      filter: drop-shadow(0px 1px 2px rgba(0, 0, 0, 0.3));\n",
              "      fill: #FFFFFF;\n",
              "    }\n",
              "  </style>\n",
              "\n",
              "      <script>\n",
              "        const buttonEl =\n",
              "          document.querySelector('#df-20101eca-1629-40bf-8cd9-e4dd37289083 button.colab-df-convert');\n",
              "        buttonEl.style.display =\n",
              "          google.colab.kernel.accessAllowed ? 'block' : 'none';\n",
              "\n",
              "        async function convertToInteractive(key) {\n",
              "          const element = document.querySelector('#df-20101eca-1629-40bf-8cd9-e4dd37289083');\n",
              "          const dataTable =\n",
              "            await google.colab.kernel.invokeFunction('convertToInteractive',\n",
              "                                                     [key], {});\n",
              "          if (!dataTable) return;\n",
              "\n",
              "          const docLinkHtml = 'Like what you see? Visit the ' +\n",
              "            '<a target=\"_blank\" href=https://colab.research.google.com/notebooks/data_table.ipynb>data table notebook</a>'\n",
              "            + ' to learn more about interactive tables.';\n",
              "          element.innerHTML = '';\n",
              "          dataTable['output_type'] = 'display_data';\n",
              "          await google.colab.output.renderOutput(dataTable, element);\n",
              "          const docLink = document.createElement('div');\n",
              "          docLink.innerHTML = docLinkHtml;\n",
              "          element.appendChild(docLink);\n",
              "        }\n",
              "      </script>\n",
              "    </div>\n",
              "  </div>\n",
              "  "
            ],
            "text/plain": [
              "        Cows  Goats\n",
              "Year 1    12     22\n",
              "Year 2    20     19"
            ]
          },
          "metadata": {},
          "execution_count": 18
        }
      ]
    },
    {
      "cell_type": "markdown",
      "source": [
        "In the cell below, write code to save this DataFrame to disk as a csv file with the name `cows_and_goats.csv`."
      ],
      "metadata": {
        "id": "mD0tF4tduvOX"
      }
    },
    {
      "cell_type": "code",
      "source": [
        "# Your code goes here\n"
      ],
      "metadata": {
        "id": "snu0YfPBuoeo"
      },
      "execution_count": null,
      "outputs": []
    },
    {
      "cell_type": "markdown",
      "source": [
        "# Section B :  Indexing, Selecting & Assigning"
      ],
      "metadata": {
        "id": "lECV1ogqiXd1"
      }
    },
    {
      "cell_type": "markdown",
      "source": [
        "Look at an overview of your data by running the following line."
      ],
      "metadata": {
        "id": "bIa12-MsvGsI"
      }
    },
    {
      "cell_type": "code",
      "source": [
        "reviews.head()"
      ],
      "metadata": {
        "id": "GR9kzF-Pis07"
      },
      "execution_count": null,
      "outputs": []
    },
    {
      "cell_type": "markdown",
      "source": [
        "## 1.\n",
        "\n",
        "Select the `description` column from `reviews` and assign the result to the variable `desc`."
      ],
      "metadata": {
        "id": "g6cRWH1tva8f"
      }
    },
    {
      "cell_type": "code",
      "source": [
        "# Your code here\n",
        "desc = \n",
        "desc"
      ],
      "metadata": {
        "id": "Cb0SdBHLvL8w"
      },
      "execution_count": null,
      "outputs": []
    },
    {
      "cell_type": "markdown",
      "source": [
        "## 2.\n",
        "\n",
        "Select the first value from the description column of `reviews`, assigning it to variable `first_description`."
      ],
      "metadata": {
        "id": "szCQ0_yxvnC5"
      }
    },
    {
      "cell_type": "code",
      "source": [
        "first_description =  # here your code \n",
        "\n",
        "\n",
        "first_description"
      ],
      "metadata": {
        "id": "AMs2Qq2dvnkU"
      },
      "execution_count": null,
      "outputs": []
    },
    {
      "cell_type": "markdown",
      "source": [
        "## 3. \n",
        "\n",
        "Select the first row of data (the first record) from `reviews`, assigning it to the variable `first_row`."
      ],
      "metadata": {
        "id": "R852hcw1wGOu"
      }
    },
    {
      "cell_type": "code",
      "source": [
        "first_row = # here your code \n",
        "\n",
        "first_row"
      ],
      "metadata": {
        "id": "QaAyktaDvtS3"
      },
      "execution_count": null,
      "outputs": []
    },
    {
      "cell_type": "markdown",
      "source": [
        "## 4.\n",
        "\n",
        "Select the first 10 values from the `description` column in `reviews`, assigning the result to variable `first_descriptions`.\n",
        "\n",
        "Hint: format your output as a pandas Series."
      ],
      "metadata": {
        "id": "y4nTT12ZwUzk"
      }
    },
    {
      "cell_type": "code",
      "source": [
        "first_descriptions =  # here your code \n",
        "\n",
        "\n",
        "first_descriptions"
      ],
      "metadata": {
        "id": "uI-drQyIwVZ_"
      },
      "execution_count": null,
      "outputs": []
    },
    {
      "cell_type": "markdown",
      "source": [
        "## 5.\n",
        "\n",
        "Select the records with index labels `1`, `2`, `3`, `5`, and `8`, assigning the result to the variable `sample_reviews`.\n",
        "\n",
        "In other words, generate the following DataFrame:\n",
        "\n",
        "![](https://i.imgur.com/sHZvI1O.png)"
      ],
      "metadata": {
        "id": "YsTDhZSxwgzB"
      }
    },
    {
      "cell_type": "code",
      "source": [
        "sample_reviews = # here your code \n",
        "\n",
        " \n",
        "sample_reviews"
      ],
      "metadata": {
        "id": "z6cuFb9JwhUF"
      },
      "execution_count": null,
      "outputs": []
    },
    {
      "cell_type": "markdown",
      "source": [
        "## 6.\n",
        "\n",
        "Create a variable `df` containing the `country`, `province`, `region_1`, and `region_2` columns of the records with the index labels `0`, `1`, `10`, and `100`. In other words, generate the following DataFrame:\n",
        "\n",
        "![](https://i.imgur.com/FUCGiKP.png)"
      ],
      "metadata": {
        "id": "QI3hZF8nwvHx"
      }
    },
    {
      "cell_type": "code",
      "source": [
        "df =  # here your code \n",
        "\n",
        "\n",
        "df"
      ],
      "metadata": {
        "id": "gEuPjgdIwv7_"
      },
      "execution_count": null,
      "outputs": []
    },
    {
      "cell_type": "markdown",
      "source": [
        "## 7.\n",
        "\n",
        "Create a variable `df` containing the `country` and `variety` columns of the first 100 records. \n",
        "\n",
        "Hint: you may use `loc` or `iloc`. When working on the answer this question and the several of the ones that follow, keep the following \"gotcha\" described in the tutorial:\n",
        "\n",
        "> `iloc` uses the Python stdlib indexing scheme, where the first element of the range is included and the last one excluded. \n",
        "`loc`, meanwhile, indexes inclusively. \n",
        "\n",
        "> This is particularly confusing when the DataFrame index is a simple numerical list, e.g. `0,...,1000`. In this case `df.iloc[0:1000]` will return 1000 entries, while `df.loc[0:1000]` return 1001 of them! To get 1000 elements using `loc`, you will need to go one lower and ask for `df.iloc[0:999]`. "
      ],
      "metadata": {
        "id": "RnZY8p9-w62l"
      }
    },
    {
      "cell_type": "code",
      "source": [
        "df =  # here your code \n",
        "\n",
        "\n",
        "df"
      ],
      "metadata": {
        "id": "16sKuYxGw7bl"
      },
      "execution_count": null,
      "outputs": []
    },
    {
      "cell_type": "markdown",
      "source": [
        "## 8.\n",
        "\n",
        "Create a DataFrame `italian_wines` containing reviews of wines made in `Italy`. Hint: `reviews.country` equals what?"
      ],
      "metadata": {
        "id": "nrzmEiqXxG-r"
      }
    },
    {
      "cell_type": "code",
      "source": [
        "italian_wines = # here your code "
      ],
      "metadata": {
        "id": "pJvVbCtgxHpL"
      },
      "execution_count": null,
      "outputs": []
    },
    {
      "cell_type": "markdown",
      "source": [
        "## 9.\n",
        "\n",
        "Create a DataFrame `top_oceania_wines` containing all reviews with at least 95 points (out of 100) for wines from Australia or New Zealand."
      ],
      "metadata": {
        "id": "nYqwI9SKxTED"
      }
    },
    {
      "cell_type": "code",
      "source": [
        "top_oceania_wines = # here your code \n",
        "\n",
        " \n",
        "top_oceania_wines"
      ],
      "metadata": {
        "id": "TeGwZcKMxTpm"
      },
      "execution_count": null,
      "outputs": []
    },
    {
      "cell_type": "markdown",
      "source": [
        " # Section C : Summary Functions and Maps"
      ],
      "metadata": {
        "id": "nCnC4sb0-X3o"
      }
    },
    {
      "cell_type": "markdown",
      "source": [
        "## 1.\n",
        "\n",
        "What is the median of the `points` column in the `reviews` DataFrame?"
      ],
      "metadata": {
        "id": "QnNQiYZ6-t_G"
      }
    },
    {
      "cell_type": "code",
      "source": [
        "median_points = # Here your code \n",
        "\n",
        "\n",
        "median_points"
      ],
      "metadata": {
        "id": "hwFr7dLm-jxr"
      },
      "execution_count": null,
      "outputs": []
    },
    {
      "cell_type": "markdown",
      "source": [
        "## 2. \n",
        "What countries are represented in the dataset? (Your answer should not include any duplicates.)"
      ],
      "metadata": {
        "id": "Sok3-wRC_MCU"
      }
    },
    {
      "cell_type": "code",
      "source": [
        "countries = # Here your code \n",
        "\n",
        "countries"
      ],
      "metadata": {
        "id": "1sV8DzbM-6Wd"
      },
      "execution_count": null,
      "outputs": []
    },
    {
      "cell_type": "markdown",
      "source": [
        "## 3.\n",
        "How often does each country appear in the dataset? Create a Series `reviews_per_country` mapping countries to the count of reviews of wines from that country."
      ],
      "metadata": {
        "id": "rFv6RIXr_dCl"
      }
    },
    {
      "cell_type": "code",
      "source": [
        "reviews_per_country =  # Here your code \n",
        "\n",
        "reviews_per_country\n"
      ],
      "metadata": {
        "id": "626PFxlA_dhe"
      },
      "execution_count": null,
      "outputs": []
    },
    {
      "cell_type": "markdown",
      "source": [
        "## 4.\n",
        "Create variable `centered_price` containing a version of the `price` column with the mean price subtracted.\n",
        "\n",
        "(Note: this 'centering' transformation is a common preprocessing step before applying various machine learning algorithms.) "
      ],
      "metadata": {
        "id": "i8JIOP-y_9Ew"
      }
    },
    {
      "cell_type": "code",
      "source": [
        "centered_price =  # Here your code \n",
        "\n",
        "\n",
        "centered_price ="
      ],
      "metadata": {
        "id": "h5FZaEZ4__2T"
      },
      "execution_count": null,
      "outputs": []
    },
    {
      "cell_type": "markdown",
      "source": [
        "## 5.\n",
        "I'm an economical wine buyer. Which wine is the \"best bargain\"? Create a variable `bargain_wine` with the title of the wine with the highest points-to-price ratio in the dataset."
      ],
      "metadata": {
        "id": "veKOuiIuBJ4m"
      }
    },
    {
      "cell_type": "code",
      "source": [
        "bargain_wine = # here your code "
      ],
      "metadata": {
        "id": "koWq7yzTBKSW"
      },
      "execution_count": null,
      "outputs": []
    },
    {
      "cell_type": "markdown",
      "source": [
        "## 6.\n",
        "There are only so many words you can use when describing a bottle of wine. Is a wine more likely to be \"tropical\" or \"fruity\"? Create a Series `descriptor_counts` counting how many times each of these two words appears in the `description` column in the dataset. (For simplicity, let's ignore the capitalized versions of these words.)"
      ],
      "metadata": {
        "id": "UTlAwRJUBRLr"
      }
    },
    {
      "cell_type": "code",
      "source": [
        "descriptor_counts = # Here your code \n",
        "\n",
        "descriptor_counts"
      ],
      "metadata": {
        "id": "as73K0j5BOKn"
      },
      "execution_count": null,
      "outputs": []
    },
    {
      "cell_type": "markdown",
      "source": [
        "## 7.\n",
        "We'd like to host these wine reviews on our website, but a rating system ranging from 80 to 100 points is too hard to understand - we'd like to translate them into simple star ratings. A score of 95 or higher counts as 3 stars, a score of at least 85 but less than 95 is 2 stars. Any other score is 1 star.\n",
        "\n",
        "Also, the Canadian Vintners Association bought a lot of ads on the site, so any wines from Canada should automatically get 3 stars, regardless of points.\n",
        "\n",
        "Create a series `star_ratings` with the number of stars corresponding to each review in the dataset."
      ],
      "metadata": {
        "id": "wA7YkquBBWdP"
      }
    },
    {
      "cell_type": "code",
      "source": [
        "star_ratings = # here your code \n",
        "\n",
        "star_ratings"
      ],
      "metadata": {
        "id": "lMouU9siBOHW"
      },
      "execution_count": null,
      "outputs": []
    },
    {
      "cell_type": "code",
      "source": [],
      "metadata": {
        "id": "_L6cpHM9BN9d"
      },
      "execution_count": null,
      "outputs": []
    },
    {
      "cell_type": "markdown",
      "source": [
        "# Section D : Sorting and Grouping "
      ],
      "metadata": {
        "id": "COFusAseeFdU"
      }
    },
    {
      "cell_type": "markdown",
      "source": [
        "## 1.\n",
        "Who are the most common wine reviewers in the dataset? Create a `Series` whose index is the `taster_twitter_handle` category from the dataset, and whose values count how many reviews each person wrote."
      ],
      "metadata": {
        "id": "FLrhqjB9gTJh"
      }
    },
    {
      "cell_type": "code",
      "source": [
        "# Your code here\n",
        "reviews_written = "
      ],
      "metadata": {
        "id": "UvbYd64OeKgr"
      },
      "execution_count": null,
      "outputs": []
    },
    {
      "cell_type": "markdown",
      "source": [
        "## 2.\n",
        "What is the best wine I can buy for a given amount of money? Create a `Series` whose index is wine prices and whose values is the maximum number of points a wine costing that much was given in a review. Sort the values by price, ascending (so that `4.0` dollars is at the top and `3300.0` dollars is at the bottom)."
      ],
      "metadata": {
        "id": "erGPzY9xgeCH"
      }
    },
    {
      "cell_type": "code",
      "source": [
        "best_rating_per_price = "
      ],
      "metadata": {
        "id": "DbugurbXeKeh"
      },
      "execution_count": null,
      "outputs": []
    },
    {
      "cell_type": "markdown",
      "source": [
        "## 3.\n",
        "What are the minimum and maximum prices for each `variety` of wine? Create a `DataFrame` whose index is the `variety` category from the dataset and whose values are the `min` and `max` values thereof."
      ],
      "metadata": {
        "id": "4VJKRXNZghlu"
      }
    },
    {
      "cell_type": "code",
      "source": [
        "price_extremes = ____"
      ],
      "metadata": {
        "id": "If8BdCIveKbT"
      },
      "execution_count": null,
      "outputs": []
    },
    {
      "cell_type": "markdown",
      "source": [
        "## 4.\n",
        "What are the most expensive wine varieties? Create a variable `sorted_varieties` containing a copy of the dataframe from the previous question where varieties are sorted in descending order based on minimum price, then on maximum price (to break ties)."
      ],
      "metadata": {
        "id": "O7LhTr5Mgocv"
      }
    },
    {
      "cell_type": "code",
      "source": [
        "sorted_varieties = ____"
      ],
      "metadata": {
        "id": "8YsjsIE_eKY_"
      },
      "execution_count": null,
      "outputs": []
    },
    {
      "cell_type": "markdown",
      "source": [
        "## 5.\n",
        "Create a `Series` whose index is reviewers and whose values is the average review score given out by that reviewer. Hint: you will need the `taster_name` and `points` columns."
      ],
      "metadata": {
        "id": "gtwQhJ0Hgw7Z"
      }
    },
    {
      "cell_type": "code",
      "source": [
        "reviewer_mean_ratings = ____"
      ],
      "metadata": {
        "id": "n2x3QbnieKVJ"
      },
      "execution_count": null,
      "outputs": []
    },
    {
      "cell_type": "markdown",
      "source": [
        "Are there significant differences in the average scores assigned by the various reviewers? Run the cell below to use the `describe()` method to see a summary of the range of values."
      ],
      "metadata": {
        "id": "UHUjmHs6g2Dr"
      }
    },
    {
      "cell_type": "code",
      "source": [
        "reviewer_mean_ratings.describe()"
      ],
      "metadata": {
        "id": "YvwzJsrqeKSN"
      },
      "execution_count": null,
      "outputs": []
    },
    {
      "cell_type": "markdown",
      "source": [
        "## 6.\n",
        "What combination of countries and varieties are most common? Create a `Series` whose index is a `MultiIndex`of `{country, variety}` pairs. For example, a pinot noir produced in the US should map to `{\"US\", \"Pinot Noir\"}`. Sort the values in the `Series` in descending order based on wine count."
      ],
      "metadata": {
        "id": "z-U8U0khg7se"
      }
    },
    {
      "cell_type": "code",
      "source": [
        "country_variety_counts = ____"
      ],
      "metadata": {
        "id": "vFKzYwAKeKJD"
      },
      "execution_count": null,
      "outputs": []
    },
    {
      "cell_type": "markdown",
      "source": [
        "# Section E :Missing Values"
      ],
      "metadata": {
        "id": "BKP_YdI9E82F"
      }
    },
    {
      "cell_type": "markdown",
      "source": [
        "## 1. \n",
        "What is the data type of the `points` column in the dataset?"
      ],
      "metadata": {
        "id": "JjmlHaBeK_J-"
      }
    },
    {
      "cell_type": "code",
      "source": [
        "# Your code here\n",
        "dtype = \n",
        "\n",
        "dtype "
      ],
      "metadata": {
        "id": "XDfKlOJfK6SL"
      },
      "execution_count": null,
      "outputs": []
    },
    {
      "cell_type": "markdown",
      "source": [
        "## 2. \n",
        "Create a Series from entries in the `points` column, but convert the entries to strings. Hint: strings are `str` in native Python."
      ],
      "metadata": {
        "id": "qIsCCPOBLqAq"
      }
    },
    {
      "cell_type": "code",
      "source": [
        "point_strings = # Your code here \n",
        "\n",
        "point_strings\n"
      ],
      "metadata": {
        "id": "DxgkhSIyLn0q"
      },
      "execution_count": null,
      "outputs": []
    },
    {
      "cell_type": "markdown",
      "source": [
        "## 3.\n",
        "Sometimes the price column is null. How many reviews in the dataset are missing a price?"
      ],
      "metadata": {
        "id": "nz6NCOmTLx0l"
      }
    },
    {
      "cell_type": "code",
      "source": [
        "n_missing_prices = # your code here \n",
        "\n",
        "n_missing_prices"
      ],
      "metadata": {
        "id": "k-fzSRSsLxla"
      },
      "execution_count": null,
      "outputs": []
    },
    {
      "cell_type": "markdown",
      "source": [
        "## 4.\n",
        "What are the most common wine-producing regions? Create a Series counting the number of times each value occurs in the `region_1` field. This field is often missing data, so replace missing values with `Unknown`. Sort in descending order.  Your output should look something like this:\n",
        "\n",
        "```\n",
        "Unknown                    21247\n",
        "Napa Valley                 4480\n",
        "                           ...  \n",
        "Bardolino Superiore            1\n",
        "Primitivo del Tarantino        1\n",
        "Name: region_1, Length: 1230, dtype: int64\n",
        "```"
      ],
      "metadata": {
        "id": "K4JPmlYqMCsO"
      }
    },
    {
      "cell_type": "code",
      "source": [
        "reviews_per_region = # Here your code \n",
        "\n",
        "\n",
        "reviews_per_region\n"
      ],
      "metadata": {
        "id": "HB6UNPttL_lq"
      },
      "execution_count": null,
      "outputs": []
    },
    {
      "cell_type": "markdown",
      "source": [],
      "metadata": {
        "id": "BmRJrDtkMK-Y"
      }
    }
  ]
}