{
  "nbformat": 4,
  "nbformat_minor": 0,
  "metadata": {
    "colab": {
      "provenance": [],
      "include_colab_link": true
    },
    "kernelspec": {
      "name": "python3",
      "display_name": "Python 3"
    },
    "language_info": {
      "name": "python"
    }
  },
  "cells": [
    {
      "cell_type": "markdown",
      "metadata": {
        "id": "view-in-github",
        "colab_type": "text"
      },
      "source": [
        "<a href=\"https://colab.research.google.com/github/Muhirwakyeyune/improvedonline/blob/master/Group3_B23FinalProject.ipynb\" target=\"_parent\"><img src=\"https://colab.research.google.com/assets/colab-badge.svg\" alt=\"Open In Colab\"/></a>"
      ]
    },
    {
      "cell_type": "code",
      "execution_count": 709,
      "metadata": {
        "id": "9LKzn2OEm-HY"
      },
      "outputs": [],
      "source": [
        "import numpy as np\n",
        "import pandas as pd\n",
        "import matplotlib.pyplot as plt\n",
        "from sklearn import datasets"
      ]
    },
    {
      "cell_type": "code",
      "source": [
        "# Get Data: Do not touch it.\n",
        "def get_data():\n",
        "  data_url = \"http://lib.stat.cmu.edu/datasets/boston\"\n",
        "  raw_df = pd.read_csv(data_url, sep=\"\\s+\", skiprows=22, header=None)\n",
        "  X = np.hstack([raw_df.values[::2, :], raw_df.values[1::2, :2]])\n",
        "  y = raw_df.values[1::2, 2]\n",
        "  return X,y"
      ],
      "metadata": {
        "id": "yKBmM4qYx5eJ"
      },
      "execution_count": 710,
      "outputs": []
    },
    {
      "cell_type": "code",
      "source": [
        "# cgs\n",
        "def cgs(A):\n",
        "  \"\"\"\n",
        "    Q,R = cgs(A)\n",
        "    Apply classical Gram-Schmidt to mxn rectangular/square matrix. \n",
        "\n",
        "    Parameters\n",
        "    -------\n",
        "    A: mxn rectangular/square matrix   \n",
        "\n",
        "    Returns\n",
        "    -------\n",
        "    Q: mxn square matrix\n",
        "    R: nxn upper triangular matrix\n",
        "\n",
        "  \"\"\"\n",
        "  # ADD YOUR CODES\n",
        "  m,n= A.shape # get the number of rows of A\n",
        "  # get the number of columns of A\n",
        "\n",
        "  R= np.zeros((n,n)) # create a zero matrix of nxn\n",
        "  Q= np.ones((m,n)) # copy A (deep copy)\n",
        "  for k  in range(n):\n",
        "    w = A[:,k]\n",
        "    \n",
        "    for j in range(k-1):\n",
        "      R[j,k]=np.dot(np.transpose(Q[:,j]),w)\n",
        "    for j in range(k-1):\n",
        "      w = w - np.dot(R[j,k],Q[:,j])\n",
        "    R[k,k]= np.linalg.norm(w, ord=2)\n",
        "    #print(w/R[k,k])\n",
        "    Q[:,k] = w/ R[k,k]\n",
        "    #print (R[:,k])\n",
        "  return Q,R\n",
        "  \n"
      ],
      "metadata": {
        "id": "Poc0cnUcn9dm"
      },
      "execution_count": 756,
      "outputs": []
    },
    {
      "cell_type": "code",
      "source": [
        "A = np. array([[1,2,4],[0,0,5],[0,3,6]])"
      ],
      "metadata": {
        "id": "0buPbdYs3lBD"
      },
      "execution_count": 757,
      "outputs": []
    },
    {
      "cell_type": "code",
      "source": [
        "R"
      ],
      "metadata": {
        "colab": {
          "base_uri": "https://localhost:8080/"
        },
        "id": "tPkg9EvU4Q0z",
        "outputId": "1746656a-168c-49ca-f9d8-d4396d369123"
      },
      "execution_count": 758,
      "outputs": [
        {
          "output_type": "execute_result",
          "data": {
            "text/plain": [
              "array([[1.        , 0.        , 4.        ],\n",
              "       [0.        , 3.60555128, 0.        ],\n",
              "       [0.        , 0.        , 7.81024968]])"
            ]
          },
          "metadata": {},
          "execution_count": 758
        }
      ]
    },
    {
      "cell_type": "code",
      "source": [
        "np.dot(Q,R)"
      ],
      "metadata": {
        "colab": {
          "base_uri": "https://localhost:8080/"
        },
        "id": "4l-AAeBmOsbX",
        "outputId": "9fe15648-13b9-454c-f908-ca6ef66e4530"
      },
      "execution_count": 759,
      "outputs": [
        {
          "output_type": "execute_result",
          "data": {
            "text/plain": [
              "array([[1., 2., 4.],\n",
              "       [0., 0., 5.],\n",
              "       [0., 3., 6.]])"
            ]
          },
          "metadata": {},
          "execution_count": 759
        }
      ]
    },
    {
      "cell_type": "code",
      "source": [
        "# Implement BACK SUBS\n",
        "def backsubs(U, b):\n",
        "\n",
        "  \"\"\"\n",
        "  x = backsubs(U, b)\n",
        "  Apply back substitution for the square upper triangular system Ux=b. \n",
        "\n",
        "  Parameters\n",
        "  -------\n",
        "    U: nxn square upper triangular array\n",
        "    b: n array\n",
        "    \n",
        "\n",
        "  Returns\n",
        "  -------\n",
        "    x: n array\n",
        "  \"\"\"\n",
        "\n",
        "  n= U.shape[1]\n",
        "  x= np.zeros((n,))\n",
        "  b_copy= np.copy(b)\n",
        "\n",
        "  if U[n-1,n-1]==0.0:\n",
        "    if b[n-1] != 0.0:\n",
        "      print(\"System has no solution.\")\n",
        "  \n",
        "  else:\n",
        "    x[n-1]= b_copy[n-1]/U[n-1,n-1]\n",
        "  for i in range(n-2,-1,-1):\n",
        "    if U[i,i]==0.0:\n",
        "      if b[i]!= 0.0:\n",
        "        print(\"System has no solution.\")\n",
        "    else:\n",
        "      for j in range(i,n):\n",
        "        b_copy[i] -=U[i,j]*x[j]\n",
        "      x[i]= b_copy[i]/U[i,i]\n",
        "  return x"
      ],
      "metadata": {
        "id": "nSffMpetoCua"
      },
      "execution_count": 760,
      "outputs": []
    },
    {
      "cell_type": "code",
      "source": [
        "# Add ones\n",
        "def add_ones(X):\n",
        "\n",
        "  # ADD YOUR CODES\n",
        "  m,n = X.shape\n",
        "  New_X = np.ones((m,n+1))\n",
        "  New_X[:m,1:n+1]= X\n",
        "  return New_X\n"
      ],
      "metadata": {
        "id": "ns5YC7RvoIgY"
      },
      "execution_count": 761,
      "outputs": []
    },
    {
      "cell_type": "code",
      "source": [
        "X,y = get_data()\n",
        "X"
      ],
      "metadata": {
        "colab": {
          "base_uri": "https://localhost:8080/"
        },
        "id": "DkhcbhqpRl-l",
        "outputId": "a32c92f7-4742-40f7-9d15-800311164d73"
      },
      "execution_count": 762,
      "outputs": [
        {
          "output_type": "execute_result",
          "data": {
            "text/plain": [
              "array([[6.3200e-03, 1.8000e+01, 2.3100e+00, ..., 1.5300e+01, 3.9690e+02,\n",
              "        4.9800e+00],\n",
              "       [2.7310e-02, 0.0000e+00, 7.0700e+00, ..., 1.7800e+01, 3.9690e+02,\n",
              "        9.1400e+00],\n",
              "       [2.7290e-02, 0.0000e+00, 7.0700e+00, ..., 1.7800e+01, 3.9283e+02,\n",
              "        4.0300e+00],\n",
              "       ...,\n",
              "       [6.0760e-02, 0.0000e+00, 1.1930e+01, ..., 2.1000e+01, 3.9690e+02,\n",
              "        5.6400e+00],\n",
              "       [1.0959e-01, 0.0000e+00, 1.1930e+01, ..., 2.1000e+01, 3.9345e+02,\n",
              "        6.4800e+00],\n",
              "       [4.7410e-02, 0.0000e+00, 1.1930e+01, ..., 2.1000e+01, 3.9690e+02,\n",
              "        7.8800e+00]])"
            ]
          },
          "metadata": {},
          "execution_count": 762
        }
      ]
    },
    {
      "cell_type": "code",
      "source": [
        "X= add_ones(X)"
      ],
      "metadata": {
        "id": "-K-qgs7dRElX"
      },
      "execution_count": 763,
      "outputs": []
    },
    {
      "cell_type": "code",
      "source": [
        "def split_data(X,Y, train_size):\n",
        "  # ADD YOUR CODES\n",
        "  # shuffle the data before splitting it\n",
        "  train_size =int(train_size*len(Y))\n",
        "  m,n = X.shape\n",
        "  X_Y = np.zeros((m,n+1))\n",
        "  Y=Y.reshape(len(Y),1)\n",
        "  X_Y=np.concatenate((X, Y), axis=1)\n",
        "  np.random.shuffle(X_Y)\n",
        "  x_train = X_Y[:train_size,:-1]\n",
        "  y_train  = X_Y[:train_size,-1]\n",
        "  x_test = X_Y[train_size:,:-1]\n",
        "  y_test = X_Y[train_size:,-1]\n",
        "  return  x_train, y_train, x_test, y_test\n",
        "  \n",
        "\n"
      ],
      "metadata": {
        "id": "CALmjSSOoSx9"
      },
      "execution_count": 764,
      "outputs": []
    },
    {
      "cell_type": "code",
      "source": [
        "X_train, Y_train, X_test, Y_test = split_data(X,y,0.8)"
      ],
      "metadata": {
        "id": "mIRIDMNTbelE"
      },
      "execution_count": 765,
      "outputs": []
    },
    {
      "cell_type": "code",
      "source": [
        "def mse(y, y_pred):\n",
        "    # ADD YOUR CODES\n",
        "    error = np.subtract(y,y_pred)**2\n",
        "    return np.mean(error)"
      ],
      "metadata": {
        "id": "NkttBusHxvRE"
      },
      "execution_count": 766,
      "outputs": []
    },
    {
      "cell_type": "code",
      "source": [
        "def normalEquation(X,y):\n",
        "    # ADD YOUR CODES\n",
        "  Theta = np.linalg.inv(X.T@X)@X.T@y\n",
        "  return Theta"
      ],
      "metadata": {
        "id": "BZSV33yDxvUZ"
      },
      "execution_count": 767,
      "outputs": []
    },
    {
      "cell_type": "code",
      "source": [
        "class LinearRegression:\n",
        "\n",
        "  def __init__(self, arg):\n",
        "      # ADD YOUR CODES\n",
        "      self.arg = arg\n",
        "      self.theta = None\n",
        "\n",
        "  def fit(self,x,y):\n",
        "      # ADD YOUR CODES\n",
        "      if self.arg == \"cgs\":\n",
        "        Q,R =cgs(x)\n",
        "        y = Q.T@y\n",
        "        self.theta = backsubs(R,y)\n",
        "      elif self.arg == \"NormalEq\":\n",
        "        self.theta = normalEquation(x,y)\n",
        "    \n",
        "  def predict(self,x):\n",
        "      #ADD YOUR CODE\\\n",
        "      y_pred = x@self.theta\n",
        "      return y_pred\n"
      ],
      "metadata": {
        "id": "I0EHJDJBxvV4",
        "collapsed": true
      },
      "execution_count": 781,
      "outputs": []
    },
    {
      "cell_type": "code",
      "source": [
        "# Instanciate the LinearRegression class \n",
        "model= LinearRegression(\"NormalEq\")"
      ],
      "metadata": {
        "id": "xymVn4QyyvJ8"
      },
      "execution_count": 782,
      "outputs": []
    },
    {
      "cell_type": "code",
      "source": [
        "# Train the model\n",
        "model.fit(X_train,Y_train)"
      ],
      "metadata": {
        "id": "KPnAIxDk0cy8"
      },
      "execution_count": 783,
      "outputs": []
    },
    {
      "cell_type": "code",
      "source": [
        "# print the learned theta\n",
        "model.theta"
      ],
      "metadata": {
        "id": "vT_PyWvm0f8A",
        "colab": {
          "base_uri": "https://localhost:8080/"
        },
        "outputId": "64ebffc3-fa25-47ec-ae27-73f3e9a1ae97"
      },
      "execution_count": 784,
      "outputs": [
        {
          "output_type": "execute_result",
          "data": {
            "text/plain": [
              "array([ 3.83770484e+01, -4.78205124e-02,  4.49723381e-02,  1.83976495e-02,\n",
              "        3.08891765e+00, -2.00410290e+01,  3.61286574e+00,  5.38487655e-03,\n",
              "       -1.59754882e+00,  2.53555084e-01, -9.98697474e-03, -9.56251935e-01,\n",
              "        1.12633688e-02, -5.67955118e-01])"
            ]
          },
          "metadata": {},
          "execution_count": 784
        }
      ]
    },
    {
      "cell_type": "code",
      "source": [
        "# Make a prediction on X_test\n",
        "y_pred = model.predict(X_test)"
      ],
      "metadata": {
        "id": "3iGcXkPq0jM2"
      },
      "execution_count": 785,
      "outputs": []
    },
    {
      "cell_type": "code",
      "source": [
        "# Compute the MSE (Evaluate both, regression and classification)\n",
        "mse(Y_test,y_pred)"
      ],
      "metadata": {
        "id": "djaNHfwF0oJl",
        "colab": {
          "base_uri": "https://localhost:8080/"
        },
        "outputId": "8d24c08c-ab8b-4f23-a789-f53a176e1dba"
      },
      "execution_count": 786,
      "outputs": [
        {
          "output_type": "execute_result",
          "data": {
            "text/plain": [
              "17.947694069056933"
            ]
          },
          "metadata": {},
          "execution_count": 786
        }
      ]
    },
    {
      "cell_type": "code",
      "source": [
        "# Instanciate the LinearRegression class \n",
        "model= LinearRegression(\"cgs\")"
      ],
      "metadata": {
        "id": "hKUv-v4dzLh1"
      },
      "execution_count": 787,
      "outputs": []
    },
    {
      "cell_type": "code",
      "source": [
        "# Train the model\n",
        "model.fit(X_train,Y_train)"
      ],
      "metadata": {
        "id": "jHNPRjTsPhMy"
      },
      "execution_count": 788,
      "outputs": []
    },
    {
      "cell_type": "code",
      "source": [
        "# print the learned theta\n",
        "model.theta"
      ],
      "metadata": {
        "colab": {
          "base_uri": "https://localhost:8080/"
        },
        "id": "_M_9YEc4Pmnb",
        "outputId": "355fbdb8-3be5-47f7-976f-4f7d436059bc"
      },
      "execution_count": 789,
      "outputs": [
        {
          "output_type": "execute_result",
          "data": {
            "text/plain": [
              "array([ 2.04600541e+02,  1.52965599e+01, -1.07013126e-01, -6.82360762e+00,\n",
              "       -2.10736910e+00, -6.98087511e+01, -4.44680419e+00, -2.09764211e-01,\n",
              "       -2.30834962e+00, -4.31045950e-01, -9.24534459e-03, -1.78001512e-01,\n",
              "       -7.90298561e-03, -1.56472666e-01])"
            ]
          },
          "metadata": {},
          "execution_count": 789
        }
      ]
    },
    {
      "cell_type": "code",
      "source": [
        "# Make a prediction on X_test\n",
        "y_pred = model.predict(X_test)"
      ],
      "metadata": {
        "id": "xopWTy3JPq6i"
      },
      "execution_count": 790,
      "outputs": []
    },
    {
      "cell_type": "code",
      "source": [
        "mse(Y_test,y_pred)"
      ],
      "metadata": {
        "colab": {
          "base_uri": "https://localhost:8080/"
        },
        "id": "Q4PHEf1VUolE",
        "outputId": "e19fd1e6-fc4c-45de-b49f-ae67b2331ec6"
      },
      "execution_count": 791,
      "outputs": [
        {
          "output_type": "execute_result",
          "data": {
            "text/plain": [
              "45642.47857334511"
            ]
          },
          "metadata": {},
          "execution_count": 791
        }
      ]
    }
  ]
}